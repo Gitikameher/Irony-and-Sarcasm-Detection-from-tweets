{
 "cells": [
  {
   "cell_type": "code",
   "execution_count": 13,
   "metadata": {},
   "outputs": [
    {
     "name": "stdout",
     "output_type": "stream",
     "text": [
      "Loading page (1/2)\n",
      "\n",
      "[>                                                           ] 0%\n",
      "[======>                                                     ] 10%\n",
      "[======================================================>     ] 90%\n",
      "[============================================================] 100%\n",
      "Rendering (2/2)                                                    \n",
      "\n",
      "[>                                                           ] 0%\n",
      "[===============>                                            ] 25%\n",
      "[============================================================] 100%\n",
      "Done                                                               \n",
      "\n"
     ]
    },
    {
     "name": "stderr",
     "output_type": "stream",
     "text": [
      "INFO: Could not find files for the given pattern(s).\n"
     ]
    }
   ],
   "source": [
    "!python final.py \"This is quite boring\""
   ]
  },
  {
   "cell_type": "code",
   "execution_count": 14,
   "metadata": {},
   "outputs": [
    {
     "name": "stdout",
     "output_type": "stream",
     "text": [
      "Loading page (1/2)\n",
      "\n",
      "[>                                                           ] 0%\n",
      "[======>                                                     ] 10%\n",
      "[======================================================>     ] 90%\n",
      "[============================================================] 100%\n",
      "Rendering (2/2)                                                    \n",
      "\n",
      "[>                                                           ] 0%\n",
      "[===============>                                            ] 25%\n",
      "[============================================================] 100%\n",
      "Done                                                               \n",
      "\n"
     ]
    },
    {
     "name": "stderr",
     "output_type": "stream",
     "text": [
      "INFO: Could not find files for the given pattern(s).\n"
     ]
    }
   ],
   "source": [
    "!python final.py \"@RedSox you guys sure screwed this up royally. I\\'m happy for Lester, the brain trust over there sucks. #nicejob #not #LesterToChicago\""
   ]
  },
  {
   "cell_type": "code",
   "execution_count": null,
   "metadata": {},
   "outputs": [],
   "source": []
  }
 ],
 "metadata": {
  "kernelspec": {
   "display_name": "Python 3",
   "language": "python",
   "name": "python3"
  },
  "language_info": {
   "codemirror_mode": {
    "name": "ipython",
    "version": 3
   },
   "file_extension": ".py",
   "mimetype": "text/x-python",
   "name": "python",
   "nbconvert_exporter": "python",
   "pygments_lexer": "ipython3",
   "version": "3.7.0"
  }
 },
 "nbformat": 4,
 "nbformat_minor": 2
}
